{
  "cells": [
    {
      "cell_type": "code",
      "execution_count": null,
      "metadata": {
        "colab": {
          "base_uri": "https://localhost:8080/"
        },
        "id": "GafCVY1ljzro",
        "outputId": "64262610-bcc6-41be-ef3d-2ec89847b631"
      },
      "outputs": [
        {
          "output_type": "stream",
          "name": "stdout",
          "text": [
            "Requirement already satisfied: nltk in /usr/local/lib/python3.10/dist-packages (3.8.1)\n",
            "Requirement already satisfied: click in /usr/local/lib/python3.10/dist-packages (from nltk) (8.1.7)\n",
            "Requirement already satisfied: joblib in /usr/local/lib/python3.10/dist-packages (from nltk) (1.4.2)\n",
            "Requirement already satisfied: regex>=2021.8.3 in /usr/local/lib/python3.10/dist-packages (from nltk) (2024.5.15)\n",
            "Requirement already satisfied: tqdm in /usr/local/lib/python3.10/dist-packages (from nltk) (4.66.4)\n"
          ]
        }
      ],
      "source": [
        "!pip install nltk\n",
        "\n",
        "import nltk\n",
        "from nltk.chat.util import Chat, reflections\n"
      ]
    },
    {
      "cell_type": "code",
      "execution_count": null,
      "metadata": {
        "id": "qUEerO9znPzf"
      },
      "outputs": [],
      "source": [
        "cloud_explanation = \"\"\"Private Cloud: A private cloud is a cloud computing environment that is dedicated solely to one organization.\n",
        "It is usually managed either by the organization itself or by a third-party service provider. The infrastructure and services are not shared\n",
        "with other organizations, offering greater control, security, and customization options. Private clouds are typically used by large enterprises\n",
        "or organizations with specific compliance or security requirements.\n",
        "Public Cloud: A public cloud is a cloud computing environment that is hosted and managed by a third-party service provider and made available\n",
        "to multiple organizations or individuals over the internet. The infrastructure and resources are shared among multiple users,\n",
        " offering scalability, flexibility, and cost-effectiveness. Public clouds are accessible to anyone who wants to use them and are often used\n",
        " for general-purpose computing needs such as web hosting, development, and testing.\n",
        "Hybrid Cloud: A hybrid cloud is a computing environment that combines elements of both private and public clouds. It allows organizations\n",
        " to leverage the benefits of both environments by integrating on-premises infrastructure with public cloud resources. This integration enables\n",
        " data and applications to be dynamically moved between the two environments based on changing workload demands, security requirements, and cost\n",
        " considerations. Hybrid clouds offer greater flexibility, scalability, and customization options compared to using either private or public clouds alone.\n",
        " They are commonly used by organizations that want to retain control over sensitive data while taking advantage of the scalability and cost-effectiveness of\n",
        " public cloud services.\"\"\""
      ]
    },
    {
      "cell_type": "code",
      "execution_count": null,
      "metadata": {
        "colab": {
          "base_uri": "https://localhost:8080/",
          "height": 582
        },
        "id": "h7WzAXmgRllk",
        "outputId": "8fb2a06f-5a31-4342-d51f-7ccb061d89af"
      },
      "outputs": [
        {
          "output_type": "stream",
          "name": "stderr",
          "text": [
            "[nltk_data] Downloading package punkt to /root/nltk_data...\n",
            "[nltk_data]   Package punkt is already up-to-date!\n",
            "[nltk_data] Downloading package wordnet to /root/nltk_data...\n",
            "[nltk_data]   Package wordnet is already up-to-date!\n"
          ]
        },
        {
          "output_type": "stream",
          "name": "stdout",
          "text": [
            "Hello! I'm the onShape Project Management Assistant. How can I help you today?\n",
            "You: How many different types of actions hide are there?\n",
            "ChatBot: None\n",
            "You: What is the least used tab\n",
            "ChatBot: The least used tab is 'Document as a whole' with only 8 uses.\n",
            "You: Who is the most active user?\n",
            "ChatBot: The most active user is StudentD with 722 actions.\n",
            "You: How many total actions are recorded?\n",
            "ChatBot: There are 1976 total actions recorded in the database.\n"
          ]
        },
        {
          "output_type": "error",
          "ename": "KeyboardInterrupt",
          "evalue": "Interrupted by user",
          "traceback": [
            "\u001b[0;31m---------------------------------------------------------------------------\u001b[0m",
            "\u001b[0;31mKeyboardInterrupt\u001b[0m                         Traceback (most recent call last)",
            "\u001b[0;32m<ipython-input-23-9c00d5cf34fa>\u001b[0m in \u001b[0;36m<cell line: 63>\u001b[0;34m()\u001b[0m\n\u001b[1;32m     62\u001b[0m \u001b[0mprint\u001b[0m\u001b[0;34m(\u001b[0m\u001b[0;34m\"Hello! I'm the onShape Project Management Assistant. How can I help you today?\"\u001b[0m\u001b[0;34m)\u001b[0m\u001b[0;34m\u001b[0m\u001b[0;34m\u001b[0m\u001b[0m\n\u001b[1;32m     63\u001b[0m \u001b[0;32mwhile\u001b[0m \u001b[0;32mTrue\u001b[0m\u001b[0;34m:\u001b[0m\u001b[0;34m\u001b[0m\u001b[0;34m\u001b[0m\u001b[0m\n\u001b[0;32m---> 64\u001b[0;31m     \u001b[0muser_input\u001b[0m \u001b[0;34m=\u001b[0m \u001b[0minput\u001b[0m\u001b[0;34m(\u001b[0m\u001b[0;34m\"You: \"\u001b[0m\u001b[0;34m)\u001b[0m\u001b[0;34m\u001b[0m\u001b[0;34m\u001b[0m\u001b[0m\n\u001b[0m\u001b[1;32m     65\u001b[0m \u001b[0;34m\u001b[0m\u001b[0m\n\u001b[1;32m     66\u001b[0m     \u001b[0;32mif\u001b[0m \u001b[0muser_input\u001b[0m\u001b[0;34m.\u001b[0m\u001b[0mlower\u001b[0m\u001b[0;34m(\u001b[0m\u001b[0;34m)\u001b[0m \u001b[0;32min\u001b[0m \u001b[0;34m[\u001b[0m\u001b[0;34m'exit'\u001b[0m\u001b[0;34m,\u001b[0m \u001b[0;34m'bye'\u001b[0m\u001b[0;34m,\u001b[0m \u001b[0;34m'goodbye'\u001b[0m\u001b[0;34m]\u001b[0m\u001b[0;34m:\u001b[0m\u001b[0;34m\u001b[0m\u001b[0;34m\u001b[0m\u001b[0m\n",
            "\u001b[0;32m/usr/local/lib/python3.10/dist-packages/ipykernel/kernelbase.py\u001b[0m in \u001b[0;36mraw_input\u001b[0;34m(self, prompt)\u001b[0m\n\u001b[1;32m    849\u001b[0m                 \u001b[0;34m\"raw_input was called, but this frontend does not support input requests.\"\u001b[0m\u001b[0;34m\u001b[0m\u001b[0;34m\u001b[0m\u001b[0m\n\u001b[1;32m    850\u001b[0m             )\n\u001b[0;32m--> 851\u001b[0;31m         return self._input_request(str(prompt),\n\u001b[0m\u001b[1;32m    852\u001b[0m             \u001b[0mself\u001b[0m\u001b[0;34m.\u001b[0m\u001b[0m_parent_ident\u001b[0m\u001b[0;34m,\u001b[0m\u001b[0;34m\u001b[0m\u001b[0;34m\u001b[0m\u001b[0m\n\u001b[1;32m    853\u001b[0m             \u001b[0mself\u001b[0m\u001b[0;34m.\u001b[0m\u001b[0m_parent_header\u001b[0m\u001b[0;34m,\u001b[0m\u001b[0;34m\u001b[0m\u001b[0;34m\u001b[0m\u001b[0m\n",
            "\u001b[0;32m/usr/local/lib/python3.10/dist-packages/ipykernel/kernelbase.py\u001b[0m in \u001b[0;36m_input_request\u001b[0;34m(self, prompt, ident, parent, password)\u001b[0m\n\u001b[1;32m    893\u001b[0m             \u001b[0;32mexcept\u001b[0m \u001b[0mKeyboardInterrupt\u001b[0m\u001b[0;34m:\u001b[0m\u001b[0;34m\u001b[0m\u001b[0;34m\u001b[0m\u001b[0m\n\u001b[1;32m    894\u001b[0m                 \u001b[0;31m# re-raise KeyboardInterrupt, to truncate traceback\u001b[0m\u001b[0;34m\u001b[0m\u001b[0;34m\u001b[0m\u001b[0m\n\u001b[0;32m--> 895\u001b[0;31m                 \u001b[0;32mraise\u001b[0m \u001b[0mKeyboardInterrupt\u001b[0m\u001b[0;34m(\u001b[0m\u001b[0;34m\"Interrupted by user\"\u001b[0m\u001b[0;34m)\u001b[0m \u001b[0;32mfrom\u001b[0m \u001b[0;32mNone\u001b[0m\u001b[0;34m\u001b[0m\u001b[0;34m\u001b[0m\u001b[0m\n\u001b[0m\u001b[1;32m    896\u001b[0m             \u001b[0;32mexcept\u001b[0m \u001b[0mException\u001b[0m \u001b[0;32mas\u001b[0m \u001b[0me\u001b[0m\u001b[0;34m:\u001b[0m\u001b[0;34m\u001b[0m\u001b[0;34m\u001b[0m\u001b[0m\n\u001b[1;32m    897\u001b[0m                 \u001b[0mself\u001b[0m\u001b[0;34m.\u001b[0m\u001b[0mlog\u001b[0m\u001b[0;34m.\u001b[0m\u001b[0mwarning\u001b[0m\u001b[0;34m(\u001b[0m\u001b[0;34m\"Invalid Message:\"\u001b[0m\u001b[0;34m,\u001b[0m \u001b[0mexc_info\u001b[0m\u001b[0;34m=\u001b[0m\u001b[0;32mTrue\u001b[0m\u001b[0;34m)\u001b[0m\u001b[0;34m\u001b[0m\u001b[0;34m\u001b[0m\u001b[0m\n",
            "\u001b[0;31mKeyboardInterrupt\u001b[0m: Interrupted by user"
          ]
        }
      ],
      "source": [
        "import nltk\n",
        "from nltk.chat.util import Chat, reflections\n",
        "import requests\n",
        "import json\n",
        "from collections import Counter\n",
        "\n",
        "# Download necessary NLTK data\n",
        "nltk.download('punkt')\n",
        "nltk.download('wordnet')\n",
        "\n",
        "# Fetch data from Firebase\n",
        "firebase_url = 'https://targelhw2-default-rtdb.firebaseio.com/edited Audit Trail Dashboard.json'\n",
        "response = requests.get(firebase_url)\n",
        "data = response.json()\n",
        "\n",
        "# Process the data\n",
        "users = Counter([item['User'] for item in data])\n",
        "documents = Counter([item['Document'] for item in data])\n",
        "tabs = Counter([item['Tab'] for item in data])\n",
        "descriptions = Counter([item['Description'] for item in data])\n",
        "\n",
        "# Calculate some statistics\n",
        "total_actions = len(data)\n",
        "unique_users = len(users)\n",
        "unique_documents = len(documents)\n",
        "unique_tabs = len(tabs)\n",
        "\n",
        "# Define patterns and responses\n",
        "patterns = [\n",
        "    (r'hi|hello|hey', ['Hello!', 'Hi there!', 'Welcome to the onShape project management assistant.']),\n",
        "    (r'how are you?', ['Im functioning well, thank you!', 'Im operational and ready to assist with onShape project management.']),\n",
        "    (r'what is your name?', ['Im the onShape Project Management Assistant.', 'You can call me the onShape Assistant.']),\n",
        "    (r'how do I remove duplicates?', ['The remove_duplicates() function is used to eliminate duplicate notifications based on their Time, Document, Tab, User, and Description.']),\n",
        "    (r'what does categorize notifications do?', ['The categorize_notifications() function groups notifications by their Description, creating a dictionary where each key is a description and the value is a list of notifications with that description.']),\n",
        "    (r'how can I filter notifications?', ['You can use the filter_notifications() function. It allows filtering by time (Today, Last Week, Last Month, Last Year, All), student, and description.']),\n",
        "    (r'what time range does the data cover?', ['The data covers the range from November 3, 2022 to September 4, 2023, with September 4, 2023 considered as \"Today\" in the current implementation.']),\n",
        "    (r'how is the data fetched?', ['The data is fetched from a Firebase database using the fetch_data_from_firebase() function. The database URL is: ' + firebase_url]),\n",
        "    (r'what information is stored for each notification?', ['Each notification typically includes Time, Document, Tab, User, and Description fields.']),\n",
        "    (r'how can I customize my notification settings?', ['The show_notification_settings() function allows you to customize preferences for project updates, deadline reminders, and feedback notifications.']),\n",
        "    (r'what is the structure of the notification data?', ['Each notification is a dictionary with keys like Time, Document, Tab, User, and Description. The full data is a list of these dictionaries.']),\n",
        "    (r'how are the notifications displayed?', ['Notifications are displayed using the show_recent_notifications() function, which creates an interactive interface with filtering options.']),\n",
        "    (r'what UI components are used?', ['The system uses Jupyter widgets for the user interface, including dropdowns for filtering and buttons for actions.']),\n",
        "    (r'how is the notification data stored?', ['The notification data is stored in a Firebase Realtime Database and fetched using a GET request to the database URL.']),\n",
        "    (r'what happens if the data fetch fails?', ['If the data fetch fails, the system uses an empty list as a fallback to prevent errors.']),\n",
        "    (r'exit|bye|goodbye', ['Thank you for using the onShape Project Management Assistant. Goodbye!', 'Farewell! Dont hesitate to return if you need more assistance with your onShape project.']),\n",
        "    (r'How many total actions are recorded?', [f\"There are {total_actions} total actions recorded in the database.\"]),\n",
        "    (r'Who is the most active user?', [f\"The most active user is {users.most_common(1)[0][0]} with {users.most_common(1)[0][1]} actions.\"]),\n",
        "    (r'How many unique users are there?', [f\"There are {unique_users} unique users in the database.\"]),\n",
        "    (r'What is the most frequently accessed document?', [f\"The most frequently accessed document is '{documents.most_common(1)[0][0]}' with {documents.most_common(1)[0][1]} accesses.\"]),\n",
        "    (r'How many different documents were accessed?', [f\"There were {unique_documents} different documents accessed.\"]),\n",
        "    (r'What is the most common tab used?', [f\"The most commonly used tab is '{tabs.most_common(1)[0][0]}' with {tabs.most_common(1)[0][1]} uses.\"]),\n",
        "    (r'What is the most frequent action description?', [f\"The most frequent action description is '{descriptions.most_common(1)[0][0]}' occurring {descriptions.most_common(1)[0][1]} times.\"]),\n",
        "    (r'What are the top 3 most active users?', [f\"The top 3 most active users are: 1. {users.most_common(3)[0][0]} ({users.most_common(3)[0][1]} actions), 2. {users.most_common(3)[1][0]} ({users.most_common(3)[1][1]} actions), and 3. {users.most_common(3)[2][0]} ({users.most_common(3)[2][1]} actions).\"]),\n",
        "    (r'What is the least used tab?', [f\"The least used tab is '{tabs.most_common()[-1][0]}' with only {tabs.most_common()[-1][1]} uses.\"]),\n",
        "    (r'How many different types of actions \\(descriptions\\) are there?', [f\"There are {len(descriptions)} different types of actions (unique descriptions) in the database.\"])\n",
        "]\n",
        "\n",
        "# Create a chatbot\n",
        "chatbot = Chat(patterns, reflections)\n",
        "\n",
        "# Start the conversation\n",
        "print(\"Hello! I'm the onShape Project Management Assistant. How can I help you today?\")\n",
        "while True:\n",
        "    user_input = input(\"You: \")\n",
        "\n",
        "    if user_input.lower() in ['exit', 'bye', 'goodbye']:\n",
        "        print(\"ChatBot: Thank you for using the onShape Project Management Assistant. Goodbye!\")\n",
        "        break\n",
        "\n",
        "    response = chatbot.respond(user_input)\n",
        "    print(\"ChatBot:\", response)"
      ]
    },
    {
      "cell_type": "code",
      "execution_count": null,
      "metadata": {
        "id": "_bboGV8qoyXC"
      },
      "outputs": [],
      "source": [
        "from google.colab import drive\n",
        "drive.mount('/content/drive')"
      ]
    },
    {
      "cell_type": "code",
      "execution_count": null,
      "metadata": {
        "id": "TGPjDdKc0l13"
      },
      "outputs": [],
      "source": [
        "pip install v-diffusion-pytorch"
      ]
    },
    {
      "cell_type": "code",
      "execution_count": null,
      "metadata": {
        "id": "dmFAvSgzZAaM"
      },
      "outputs": [],
      "source": []
    }
  ],
  "metadata": {
    "colab": {
      "provenance": []
    },
    "kernelspec": {
      "display_name": "Python 3",
      "name": "python3"
    },
    "language_info": {
      "name": "python"
    }
  },
  "nbformat": 4,
  "nbformat_minor": 0
}