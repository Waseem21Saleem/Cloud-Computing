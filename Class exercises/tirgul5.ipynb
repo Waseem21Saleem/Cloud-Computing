{
  "nbformat": 4,
  "nbformat_minor": 0,
  "metadata": {
    "colab": {
      "provenance": []
    },
    "kernelspec": {
      "name": "python3",
      "display_name": "Python 3"
    },
    "language_info": {
      "name": "python"
    }
  },
  "cells": [
    {
      "cell_type": "code",
      "execution_count": null,
      "metadata": {
        "id": "T0cqxlehldrm"
      },
      "outputs": [],
      "source": []
    },
    {
      "cell_type": "code",
      "source": [
        "!pip install firebase"
      ],
      "metadata": {
        "colab": {
          "base_uri": "https://localhost:8080/"
        },
        "id": "1xgYnhP8lhQr",
        "outputId": "02ed4926-1248-4ef3-9c85-3c2e666c41f0"
      },
      "execution_count": null,
      "outputs": [
        {
          "output_type": "stream",
          "name": "stdout",
          "text": [
            "Collecting firebase\n",
            "  Downloading firebase-4.0.1-py3-none-any.whl (12 kB)\n",
            "Requirement already satisfied: requests in /usr/local/lib/python3.10/dist-packages (from firebase) (2.31.0)\n",
            "Requirement already satisfied: charset-normalizer<4,>=2 in /usr/local/lib/python3.10/dist-packages (from requests->firebase) (3.3.2)\n",
            "Requirement already satisfied: idna<4,>=2.5 in /usr/local/lib/python3.10/dist-packages (from requests->firebase) (3.7)\n",
            "Requirement already satisfied: urllib3<3,>=1.21.1 in /usr/local/lib/python3.10/dist-packages (from requests->firebase) (2.0.7)\n",
            "Requirement already satisfied: certifi>=2017.4.17 in /usr/local/lib/python3.10/dist-packages (from requests->firebase) (2024.6.2)\n",
            "Installing collected packages: firebase\n",
            "Successfully installed firebase-4.0.1\n"
          ]
        }
      ]
    },
    {
      "cell_type": "code",
      "source": [
        "import json\n",
        "from firebase import firebase\n",
        "\n",
        "# Initialize connection to Firebase Realtime Database\n",
        "FBconn = firebase.FirebaseApplication('https://terg5-305c7-default-rtdb.firebaseio.com/', None)\n",
        "\n",
        "def add_student():\n",
        "    # Get student details from user input\n",
        "    first_name = input(\"Enter the student's first name: \")\n",
        "    last_name = input(\"Enter the student's last name: \")\n",
        "    email = input(\"Enter the student's Braude email: \")\n",
        "    courses = input(\"Enter the list of courses (comma-separated): \").split(',')\n",
        "    favorite_program = input(\"Enter the student's favorite program: \")\n",
        "\n",
        "    # Create a dictionary to hold the student data\n",
        "    student_data = {\n",
        "        'first_name': first_name,\n",
        "        'last_name': last_name,\n",
        "        'email': email,\n",
        "        'courses': [course.strip() for course in courses],  # Strip whitespace from each course\n",
        "        'favorite_program': favorite_program\n",
        "    }\n",
        "\n",
        "    # Post the student data to the Firebase Realtime Database\n",
        "    result = FBconn.post('/students', student_data)\n",
        "    print(result)\n",
        "\n",
        "# Keep adding student data until the user decides to stop\n",
        "while True:\n",
        "    add_student()\n",
        "    another = input(\"Do you want to add another student? (yes/no): \")\n",
        "    if another.lower() != 'yes':\n",
        "        break\n"
      ],
      "metadata": {
        "colab": {
          "base_uri": "https://localhost:8080/"
        },
        "id": "D7cvKHmIvrVx",
        "outputId": "30c2bad4-6675-4d74-84f8-4b1945ecfd07"
      },
      "execution_count": null,
      "outputs": [
        {
          "name": "stdout",
          "output_type": "stream",
          "text": [
            "Enter the student's first name: amni abo samra\n",
            "Enter the student's last name: abo samra\n",
            "Enter the student's Braude email: amniabosamra@gmail.com\n",
            "Enter the list of courses (comma-separated): mining , data \n",
            "Enter the student's favorite program: attack on titans\n",
            "{'name': '-O0rk4B141SJ6B7t4w-6'}\n",
            "Do you want to add another student? (yes/no): no\n"
          ]
        }
      ]
    },
    {
      "cell_type": "code",
      "source": [
        "# Initialize connection to Firebase Realtime Database\n",
        "FBconn = firebase.FirebaseApplication('https://terg5-305c7-default-rtdb.firebaseio.com/', None)\n",
        "\n",
        "# Retrieve student data from the database\n",
        "res = FBconn.get('/students/', None)\n",
        "\n",
        "# Function to print student data neatly\n",
        "def print_student_data(student_id, student_data):\n",
        "    print(f\"Student ID: {student_id}\")\n",
        "    print(f\"  First Name: {student_data.get('first_name')}\")\n",
        "    print(f\"  Last Name: {student_data.get('last_name')}\")\n",
        "    print(f\"  Email: {student_data.get('email')}\")\n",
        "    print(f\"  Courses: {', '.join(student_data.get('courses', []))}\")\n",
        "    print(f\"  Favorite Program: {student_data.get('favorite_program')}\")\n",
        "    print(\"-\" * 40)\n",
        "\n",
        "# Print each student's data neatly\n",
        "if res:\n",
        "    for key, data in res.items():\n",
        "        print_student_data(key, data)\n",
        "else:\n",
        "    print(\"No student data found.\")\n"
      ],
      "metadata": {
        "colab": {
          "base_uri": "https://localhost:8080/"
        },
        "id": "g0aS0TO4zOdD",
        "outputId": "e4f1b941-92c0-4246-bcd5-6781b61f5041"
      },
      "execution_count": null,
      "outputs": [
        {
          "output_type": "stream",
          "name": "stdout",
          "text": [
            "Student ID: -O0rk4B141SJ6B7t4w-6\n",
            "  First Name: amni abo samra\n",
            "  Last Name: abo samra\n",
            "  Email: amniabosamra@gmail.com\n",
            "  Courses: mining, data\n",
            "  Favorite Program: attack on titans\n",
            "----------------------------------------\n"
          ]
        }
      ]
    }
  ]
}