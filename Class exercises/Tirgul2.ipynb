{
  "nbformat": 4,
  "nbformat_minor": 0,
  "metadata": {
    "colab": {
      "provenance": [],
      "include_colab_link": true
    },
    "kernelspec": {
      "name": "python3",
      "display_name": "Python 3"
    },
    "language_info": {
      "name": "python"
    }
  },
  "cells": [
    {
      "cell_type": "markdown",
      "metadata": {
        "id": "view-in-github",
        "colab_type": "text"
      },
      "source": [
        "<a href=\"https://colab.research.google.com/github/Waseem21Saleem/Cloud-Computing/blob/main/Class%20exercises/Tirgul2.ipynb\" target=\"_parent\"><img src=\"https://colab.research.google.com/assets/colab-badge.svg\" alt=\"Open In Colab\"/></a>"
      ]
    },
    {
      "cell_type": "code",
      "execution_count": null,
      "metadata": {
        "colab": {
          "base_uri": "https://localhost:8080/"
        },
        "id": "nnl59i3KPZns",
        "outputId": "ddb2746d-8cc8-47ea-a590-35bf1e5aa603"
      },
      "outputs": [
        {
          "output_type": "stream",
          "name": "stdout",
          "text": [
            "Mounted at /content/drive\n"
          ]
        }
      ],
      "source": [
        "import json\n",
        "from google.colab import drive\n",
        "drive.mount('/content/drive')\n",
        "\n",
        "x = [\n",
        "    {\n",
        "        \"first_name\": \"waseem\",\n",
        "        \"last_name\": \"saleem\",\n",
        "        \"email\": \"waseem.saleem@e.braude.ac.il\",\n",
        "        \"courses\": [\"hedva\", \"algebra\"],\n",
        "        \"link\": \"https://github.com/waseem21saleem/sem5project\"\n",
        "    },\n",
        "    {\n",
        "        \"first_name\": \"ahmad\",\n",
        "        \"last_name\": \"abo jabal\",\n",
        "        \"email\": \"ahmad.abo.jabal@e.braude.ac.il\",\n",
        "        \"courses\": [\"hedva\", \"algebra\"],\n",
        "        \"link\": \"https://github.com/waseem21saleem/sem5project\"\n",
        "    },\n",
        "    {\n",
        "        \"first_name\": \"mohammad\",\n",
        "        \"last_name\": \"khateeb\",\n",
        "        \"email\": \"mohamad.khateeb@e.braude.ac.il\",\n",
        "        \"courses\": [\"hedva\", \"algebra\"],\n",
        "        \"link\": \"https://github.com/waseem21saleem/sem5project\"\n",
        "    },\n",
        "    {\n",
        "        \"first_name\": \"noor\",\n",
        "        \"last_name\": \"khateeb\",\n",
        "        \"email\": \"nour.el.din.khateb@e.braude.ac.il\",\n",
        "        \"courses\": [\"hedva\", \"algebra\"],\n",
        "        \"link\": \"https://github.com/waseem21saleem/sem5project\"\n",
        "    },\n",
        "    {\n",
        "        \"first_name\": \"mohammad\",\n",
        "        \"last_name\": \"dukhi\",\n",
        "        \"email\": \"mohammad.dukhi@e.braude.ac.il\",\n",
        "        \"courses\": [\"hedva\", \"algebra\"],\n",
        "        \"link\": \"https://github.com/waseem21saleem/sem5project\"\n",
        "    }\n",
        "]\n",
        "\n",
        "\n",
        "with open('/content/drive/My Drive/students.json', \"w\") as fid:\n",
        "     json.dump(x, fid)\n"
      ]
    },
    {
      "cell_type": "code",
      "source": [
        "cd /content/drive/My Drive/"
      ],
      "metadata": {
        "colab": {
          "base_uri": "https://localhost:8080/"
        },
        "id": "TcEcTOHDXkjM",
        "outputId": "9b5a00cb-daf6-4eaa-9143-1e06213fd558"
      },
      "execution_count": null,
      "outputs": [
        {
          "output_type": "stream",
          "name": "stdout",
          "text": [
            "/content/drive/My Drive\n"
          ]
        }
      ]
    },
    {
      "cell_type": "code",
      "source": [
        "import json\n",
        "from google.colab import drive\n",
        "drive.mount('/content/drive')\n",
        "\n",
        "# Read the file\n",
        "with open(\"students.json\", \"r\") as f:\n",
        "    json_text = f.read()\n",
        "# Decode the JSON string into a Python dictionary.\n",
        "apod_dict = json.loads(json_text)\n",
        "print(\"Here is the list of the students names:\\n\")\n",
        "for i in apod_dict:\n",
        "  print(\"Full name: \"+i['first_name']+\" \"+i['last_name']+\" , \")\n",
        "first=input(\"Please enter the student first name: \").lower()\n",
        "last=input(\"Please enter the student last name: \").lower()\n",
        "found=False\n",
        "print(\"\\nPrinting the student information:\\n\")\n",
        "for i in apod_dict:\n",
        "  if (i['first_name']==first and i['last_name']==last):\n",
        "    print(\"Full name: \"+i['first_name']+\" \"+i['last_name'])\n",
        "    print(\"\\nEmail: \"+i['email'])\n",
        "    print(\"\\nCourses: \",end=\"\")\n",
        "    for k in i['courses']:\n",
        "      print(k+\", \",end=\"\")\n",
        "    print(\"\\n\\nLink: \"+i['link']+\"\\n\")\n",
        "    print(\"------------------------------------------------------\\n\")\n",
        "    found=True\n",
        "    break\n",
        "if (found==False):\n",
        "  print(\"Student not found.\")\n",
        "else:\n",
        "  print(\"Please enter the key you want to update from the list below:\\n\")\n",
        "  update = input(\"first_name , last_name , email , courses , link \").lower()\n",
        "  if (update == \"first_name\" or update == \"last_name\" or update == \"email\" or update == \"link\" ):\n",
        "    updateValue = input(\"Enter the new value\").lower()\n",
        "  elif update == \"courses\":\n",
        "        updateValue = []\n",
        "        print(\"Enter the courses names one by one, when you finish type 'end'\")\n",
        "        while True:\n",
        "            newValue = input(\"\").lower()\n",
        "            if newValue == \"end\":\n",
        "                break\n",
        "            updateValue.append(newValue)\n",
        "        #Write the value of updateValue in the students.json file\n",
        "        i['courses'] = updateValue\n",
        "    # Write the updated dictionary back to the JSON file\n",
        "  with open(\"students.json\", \"w\") as f:\n",
        "        json.dump(apod_dict, f, indent=4)\n",
        "\n",
        "  print(\"The student information has been updated.\")\n"
      ],
      "metadata": {
        "colab": {
          "base_uri": "https://localhost:8080/"
        },
        "id": "E61qZtbDVale",
        "outputId": "1537f8d8-bb74-4638-f6a9-41cfdef2cc52"
      },
      "execution_count": null,
      "outputs": [
        {
          "output_type": "stream",
          "name": "stdout",
          "text": [
            "Drive already mounted at /content/drive; to attempt to forcibly remount, call drive.mount(\"/content/drive\", force_remount=True).\n",
            "Here is the list of the students names:\n",
            "\n",
            "Full name: waseem saleem , \n",
            "Full name: ahmad abo jabal , \n",
            "Full name: mohammad khateeb , \n",
            "Full name: noor khateeb , \n",
            "Full name: mohammad dukhi , \n",
            "Please enter the student first name: mohammad\n",
            "Please enter the student last name: dukhi\n",
            "\n",
            "Printing the student information:\n",
            "\n",
            "Full name: mohammad dukhi\n",
            "\n",
            "Email: mohammad.dukhi@e.braude.ac.il\n",
            "\n",
            "Courses: matam, malam, algo, \n",
            "\n",
            "Link: https://github.com/waseem21saleem/sem5project\n",
            "\n",
            "------------------------------------------------------\n",
            "\n",
            "Please enter the key you want to update from the list below:\n",
            "\n",
            "first_name , last_name , email , courses , link courses\n",
            "Enter the courses names one by one, when you finish type 'end'\n",
            "web\n",
            "algo\n",
            "end\n",
            "The student information has been updated.\n"
          ]
        }
      ]
    }
  ]
}